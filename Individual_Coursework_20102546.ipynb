{
 "cells": [
  {
   "cell_type": "markdown",
   "metadata": {},
   "source": [
    "## Table of Contents"
   ]
  },
  {
   "cell_type": "markdown",
   "metadata": {},
   "source": [
    "**1.Introduction<br>**\n",
    "  1.1 Data Cleaning<br>\n",
    "**2.Data Exploration<br>**\n",
    "2.1 General Relationship<br>\n",
    "2.2 General Distribution<br>\n",
    "2.3 Genre<br>\n",
    "2.4 Production Company<br>\n",
    "2.5 Country<br>\n",
    "2.6 Visualize the Relationship between mean_vote and Others<br>\n",
    "**3.Classification Algorithm Building**<br>\n",
    "3.1 Logistic Regression<br>\n",
    "3.2 Ridge Regression<br>\n",
    "3.3 SVC Classifier<br>\n",
    "3.4 Binary Classifier/SGD classification<br>\n",
    "3.5 KNN Classifier<br>\n",
    "3.6 Decision Tree<br>\n",
    "3.7 Bagging<br>\n",
    "3.8 Ada Boosting Classifier<br>\n",
    "3.9 Gradient Boosting Classifier<br>\n",
    "3.10 Random Forest<br>\n",
    "**4. Voting**<br>\n",
    "4.1 Hard Voting<br>\n",
    "4.2 Soft Voting<br>\n",
    "**5. End Notes**<br>\n",
    "5.1 Shortcomings<br>\n",
    "5.2 Data Source<br>"
   ]
  },
  {
   "cell_type": "markdown",
   "metadata": {},
   "source": [
    "## 1.Introduction"
   ]
  },
  {
   "cell_type": "markdown",
   "metadata": {},
   "source": [
    "The phrase 'watch a movie' has always been related with enjoyment, with pleasure. However, watching a movie is not always a delightful thing. Sometimes a bad movie is going to ruin your mood for the day. But how can you distinguish a good movie/a bad movie before hand? What signs might indicate that it might not be a good movie that is worth watching?\n",
    "\n",
    "To deal with this problem, we could look into the historical rating about the movies. We found two dataset that includes the IMBD-movie-rating-related information. We could look deeper into these datasets and try to find some insight from it."
   ]
  },
  {
   "cell_type": "markdown",
   "metadata": {},
   "source": [
    "### 1.1 Data Cleaning"
   ]
  },
  {
   "cell_type": "markdown",
   "metadata": {},
   "source": [
    "First of all, we need to do some basic data cleaning."
   ]
  },
  {
   "cell_type": "code",
   "execution_count": 57,
   "metadata": {},
   "outputs": [],
   "source": [
    "#general importing of the packages\n",
    "import pandas as pd\n",
    "import numpy as np\n",
    "import seaborn as sns\n",
    "import matplotlib.pyplot as plt\n",
    "from sklearn.model_selection import train_test_split\n",
    "from sklearn.metrics import accuracy_score  \n",
    "from sklearn.metrics import classification_report\n",
    "from sklearn.tree import DecisionTreeClassifier\n",
    "from sklearn.ensemble import BaggingClassifier\n",
    "from sklearn.model_selection import RepeatedStratifiedKFold\n",
    "from sklearn.model_selection import GridSearchCV\n",
    "from sklearn.ensemble import VotingClassifier\n",
    "from sklearn.ensemble import RandomForestClassifier\n",
    "from sklearn.ensemble import AdaBoostClassifier"
   ]
  },
  {
   "cell_type": "code",
   "execution_count": 2,
   "metadata": {},
   "outputs": [
    {
     "name": "stderr",
     "output_type": "stream",
     "text": [
      "/Users/yvonne/opt/anaconda3/lib/python3.8/site-packages/IPython/core/interactiveshell.py:3071: DtypeWarning: Columns (3) have mixed types.Specify dtype option on import or set low_memory=False.\n",
      "  has_raised = await self.run_ast_nodes(code_ast.body, cell_name,\n"
     ]
    }
   ],
   "source": [
    "#merge the two datasets based on the movie id\n",
    "movies = pd.read_csv('/Users/yvonne/Downloads/IMDb movies.csv')\n",
    "ratings = pd.read_csv('/Users/yvonne/Downloads/IMDb ratings.csv')\n",
    "final = pd.merge(left=ratings, right=movies, left_on='imdb_title_id', right_on='imdb_title_id')"
   ]
  },
  {
   "cell_type": "markdown",
   "metadata": {},
   "source": [
    "After merging these two datasets, we now have a huge dataset. To make the cleaning process easier, we will select only the columns we need."
   ]
  },
  {
   "cell_type": "code",
   "execution_count": 3,
   "metadata": {
    "scrolled": true
   },
   "outputs": [],
   "source": [
    "#selecting the columns we are interested in\n",
    "movie =  final[['total_votes', 'mean_vote', 'year','genre','duration','country','language',\n",
    "                'production_company','budget','worlwide_gross_income']].copy()\n",
    "#renaming the column\n",
    "movie = movie.rename(columns={'worlwide_gross_income':'gross'})"
   ]
  },
  {
   "cell_type": "code",
   "execution_count": 4,
   "metadata": {},
   "outputs": [],
   "source": [
    "#drop the columns with missing values\n",
    "movie = movie.dropna()\n",
    "#modify the format of some columns\n",
    "#keep the first genre as the main genre of the movie\n",
    "movie['genre'] = movie.genre.str.split(',').str.get(0)\n",
    "movie['language'] = movie.language.str.split(',').str.get(0)\n",
    "movie['country'] = movie.country.str.split(',').str.get(0)\n",
    "movie = movie[movie['language'] != 'None']\n",
    "#delete the records with non-dollar gross/budgets\n",
    "movie = movie.loc[movie['budget'].str.startswith('$')]\n",
    "movie['budget'] = movie['budget'].str.replace('$','')\n",
    "movie['gross'] = movie['gross'].str.replace('$','')"
   ]
  },
  {
   "cell_type": "code",
   "execution_count": 5,
   "metadata": {},
   "outputs": [],
   "source": [
    "#change the type of some columns\n",
    "movie['budget'] = movie['budget'].astype(int)\n",
    "movie['gross'] = movie['gross'].astype(int)"
   ]
  },
  {
   "cell_type": "markdown",
   "metadata": {},
   "source": [
    "The column **country** and **production company** are also interesting to us, but to make them easier for the classifier to process, we need to change the type of these two column. "
   ]
  },
  {
   "cell_type": "code",
   "execution_count": 6,
   "metadata": {},
   "outputs": [],
   "source": [
    "df1 = pd.DataFrame(movie['country'].value_counts())\n",
    "movie = pd.merge(left=movie, right=df1, left_on = 'country', right_on = df1.index)"
   ]
  },
  {
   "cell_type": "code",
   "execution_count": 7,
   "metadata": {},
   "outputs": [],
   "source": [
    "df2 = pd.DataFrame(movie['production_company'].value_counts())\n",
    "movie = pd.merge(left=movie, right=df2, left_on = 'production_company', right_on = df2.index)"
   ]
  },
  {
   "cell_type": "markdown",
   "metadata": {},
   "source": [
    "Now we have a dataframe with all the columns cleaned. \n"
   ]
  },
  {
   "cell_type": "markdown",
   "metadata": {},
   "source": [
    "## 2. Data Exploration"
   ]
  },
  {
   "cell_type": "markdown",
   "metadata": {},
   "source": [
    "### 2.1 General Relationships"
   ]
  },
  {
   "cell_type": "markdown",
   "metadata": {},
   "source": [
    "Our target is **mean_vote**. To have a basic idea of what are the relationship between mean_vote and other variables, we can plot a heatmap with all the numerical variables in the dataframe."
   ]
  },
  {
   "cell_type": "code",
   "execution_count": 83,
   "metadata": {
    "scrolled": false
   },
   "outputs": [
    {
     "data": {
      "text/plain": [
       "Text(0.5, 0.98, 'correlation')"
      ]
     },
     "execution_count": 83,
     "metadata": {},
     "output_type": "execute_result"
    },
    {
     "data": {
      "image/png": "[encoded data removed]",
      "text/plain": [
       "<Figure size 432x288 with 2 Axes>"
      ]
     },
     "metadata": {},
     "output_type": "display_data"
    }
   ],
   "source": [
    "f, ax = plt.subplots(figsize=(6, 4))\n",
    "corr = movie.corr()\n",
    "sns.heatmap(corr, mask=np.zeros_like(corr, dtype=np.bool),cmap=sns.diverging_palette(220, 10, as_cmap=True),\n",
    "            square=True, ax=ax)\n",
    "sns.set(font_scale=1)\n",
    "f.suptitle('correlation', fontsize=14, color='black')"
   ]
  },
  {
   "cell_type": "markdown",
   "metadata": {},
   "source": [
    "From the above heatmap, we can't see any significant relationship between **mean_vote** and other variables. But we spot rather strong correlations between **gross** and **budget**, **total_votes**. This makes sense as movies with higher budget would typically spend more on marketing. This will attract more audience, which then leads to higher gross and more votes."
   ]
  },
  {
   "cell_type": "markdown",
   "metadata": {},
   "source": [
    "### 2.2 General Distribution"
   ]
  },
  {
   "cell_type": "markdown",
   "metadata": {},
   "source": [
    "To see the distribution of these variables, we can plot them into distribution plots"
   ]
  },
  {
   "cell_type": "code",
   "execution_count": 74,
   "metadata": {},
   "outputs": [
    {
     "data": {
      "image/png": "[encoded data removed]",
      "text/plain": [
       "<Figure size 1584x864 with 6 Axes>"
      ]
     },
     "metadata": {},
     "output_type": "display_data"
    }
   ],
   "source": [
    "fig, ax =plt.subplots(2,3,figsize=(22,12))\n",
    "sns.set(font_scale = 2) \n",
    "one = sns.distplot(movie['mean_vote'].sort_values(), kde = False, ax = ax[0,0])\n",
    "two = sns.distplot(movie['year'], kde = False, ax=ax[0,1])\n",
    "three = sns.distplot(movie['duration'], kde = False, ax=ax[0,2])\n",
    "four = sns.distplot(movie['total_votes'], kde = False, ax=ax[1,0])\n",
    "five = sns.distplot(movie['budget'], kde = False, ax=ax[1,1])\n",
    "six = sns.distplot(movie['gross'], kde = False, ax=ax[1,2])"
   ]
  },
  {
   "cell_type": "markdown",
   "metadata": {},
   "source": [
    "From the distribution charts above, we can get the following conclusions:<br>\n",
    "For **mean_vote**, the scores of the films are mainly between 5.5 and 8. <br>\n",
    "For **year**, the number of movies per year has generally been increasing since 1960, reached its peak at around 2010, then started to decline.<br>\n",
    "For **duration**, the majority of the films have a duration between 70 minutes and two hour.<br>\n",
    "For **budget**, it is a lot like \n",
    "The distribution of **budget**, **total_vote** and **gross** are pretty similar. Most of the films have low budget, low gross and a small number of votes. This is reasonable as there could only be a few blockbusters each year. Movie with a higher budget tends to spend more on marketing. This will attract more audiences, which then leads to higher gross and larger number of votes."
   ]
  },
  {
   "cell_type": "markdown",
   "metadata": {},
   "source": [
    "### 2.3 Genre"
   ]
  },
  {
   "cell_type": "markdown",
   "metadata": {},
   "source": [
    "Then we can shift our attention to the genre of the movies. Which generes are more attractive/seem more profitable to the producers?"
   ]
  },
  {
   "cell_type": "code",
   "execution_count": 10,
   "metadata": {
    "scrolled": false
   },
   "outputs": [
    {
     "data": {
      "text/plain": [
       "<matplotlib.axes._subplots.AxesSubplot at 0x12198a3d0>"
      ]
     },
     "execution_count": 10,
     "metadata": {},
     "output_type": "execute_result"
    },
    {
     "data": {
      "image/png": "[encoded data removed]",
      "text/plain": [
       "<Figure size 720x360 with 1 Axes>"
      ]
     },
     "metadata": {
      "needs_background": "light"
     },
     "output_type": "display_data"
    }
   ],
   "source": [
    "df_genre = pd.DataFrame(movie['genre'].value_counts())\n",
    "df_genre.plot(kind = 'bar',figsize = (10,5),title = 'Genre Distribution')"
   ]
  },
  {
   "cell_type": "markdown",
   "metadata": {},
   "source": [
    "Comedy, Action and Drama are three major catagories of movies that are produced each year. The number of movies that are placed in these catagories almost doubled the fourth and the following catagories. But are these producers making the right choice? Are these catagories really more popular among audiences? We can aggregate the dataset to find out the result."
   ]
  },
  {
   "cell_type": "code",
   "execution_count": 11,
   "metadata": {},
   "outputs": [
    {
     "data": {
      "text/html": [
       "<div>\n",
       "<style scoped>\n",
       "    .dataframe tbody tr th:only-of-type {\n",
       "        vertical-align: middle;\n",
       "    }\n",
       "\n",
       "    .dataframe tbody tr th {\n",
       "        vertical-align: top;\n",
       "    }\n",
       "\n",
       "    .dataframe thead th {\n",
       "        text-align: right;\n",
       "    }\n",
       "</style>\n",
       "<table border=\"1\" class=\"dataframe\">\n",
       "  <thead>\n",
       "    <tr style=\"text-align: right;\">\n",
       "      <th></th>\n",
       "      <th>genre</th>\n",
       "      <th>mean_vote</th>\n",
       "      <th>genre_y</th>\n",
       "    </tr>\n",
       "  </thead>\n",
       "  <tbody>\n",
       "    <tr>\n",
       "      <th>18</th>\n",
       "      <td>Sport</td>\n",
       "      <td>4.350000</td>\n",
       "      <td>2</td>\n",
       "    </tr>\n",
       "    <tr>\n",
       "      <th>17</th>\n",
       "      <td>Sci-Fi</td>\n",
       "      <td>5.460000</td>\n",
       "      <td>15</td>\n",
       "    </tr>\n",
       "    <tr>\n",
       "      <th>12</th>\n",
       "      <td>Horror</td>\n",
       "      <td>5.668571</td>\n",
       "      <td>455</td>\n",
       "    </tr>\n",
       "    <tr>\n",
       "      <th>9</th>\n",
       "      <td>Fantasy</td>\n",
       "      <td>6.049091</td>\n",
       "      <td>55</td>\n",
       "    </tr>\n",
       "    <tr>\n",
       "      <th>19</th>\n",
       "      <td>Thriller</td>\n",
       "      <td>6.213793</td>\n",
       "      <td>29</td>\n",
       "    </tr>\n",
       "    <tr>\n",
       "      <th>0</th>\n",
       "      <td>Action</td>\n",
       "      <td>6.237286</td>\n",
       "      <td>2049</td>\n",
       "    </tr>\n",
       "    <tr>\n",
       "      <th>4</th>\n",
       "      <td>Comedy</td>\n",
       "      <td>6.275727</td>\n",
       "      <td>2406</td>\n",
       "    </tr>\n",
       "    <tr>\n",
       "      <th>8</th>\n",
       "      <td>Family</td>\n",
       "      <td>6.311765</td>\n",
       "      <td>17</td>\n",
       "    </tr>\n",
       "    <tr>\n",
       "      <th>11</th>\n",
       "      <td>History</td>\n",
       "      <td>6.400000</td>\n",
       "      <td>2</td>\n",
       "    </tr>\n",
       "    <tr>\n",
       "      <th>16</th>\n",
       "      <td>Romance</td>\n",
       "      <td>6.460000</td>\n",
       "      <td>15</td>\n",
       "    </tr>\n",
       "    <tr>\n",
       "      <th>1</th>\n",
       "      <td>Adventure</td>\n",
       "      <td>6.510256</td>\n",
       "      <td>468</td>\n",
       "    </tr>\n",
       "    <tr>\n",
       "      <th>15</th>\n",
       "      <td>Mystery</td>\n",
       "      <td>6.538710</td>\n",
       "      <td>31</td>\n",
       "    </tr>\n",
       "    <tr>\n",
       "      <th>2</th>\n",
       "      <td>Animation</td>\n",
       "      <td>6.595571</td>\n",
       "      <td>429</td>\n",
       "    </tr>\n",
       "    <tr>\n",
       "      <th>5</th>\n",
       "      <td>Crime</td>\n",
       "      <td>6.670724</td>\n",
       "      <td>649</td>\n",
       "    </tr>\n",
       "    <tr>\n",
       "      <th>7</th>\n",
       "      <td>Drama</td>\n",
       "      <td>6.711680</td>\n",
       "      <td>1815</td>\n",
       "    </tr>\n",
       "    <tr>\n",
       "      <th>3</th>\n",
       "      <td>Biography</td>\n",
       "      <td>7.091285</td>\n",
       "      <td>459</td>\n",
       "    </tr>\n",
       "    <tr>\n",
       "      <th>14</th>\n",
       "      <td>Musical</td>\n",
       "      <td>7.300000</td>\n",
       "      <td>8</td>\n",
       "    </tr>\n",
       "    <tr>\n",
       "      <th>21</th>\n",
       "      <td>Western</td>\n",
       "      <td>7.344444</td>\n",
       "      <td>9</td>\n",
       "    </tr>\n",
       "    <tr>\n",
       "      <th>20</th>\n",
       "      <td>War</td>\n",
       "      <td>7.400000</td>\n",
       "      <td>3</td>\n",
       "    </tr>\n",
       "    <tr>\n",
       "      <th>13</th>\n",
       "      <td>Music</td>\n",
       "      <td>7.550000</td>\n",
       "      <td>2</td>\n",
       "    </tr>\n",
       "    <tr>\n",
       "      <th>6</th>\n",
       "      <td>Documentary</td>\n",
       "      <td>7.700000</td>\n",
       "      <td>1</td>\n",
       "    </tr>\n",
       "    <tr>\n",
       "      <th>10</th>\n",
       "      <td>Film-Noir</td>\n",
       "      <td>7.733333</td>\n",
       "      <td>3</td>\n",
       "    </tr>\n",
       "  </tbody>\n",
       "</table>\n",
       "</div>"
      ],
      "text/plain": [
       "          genre  mean_vote  genre_y\n",
       "18        Sport   4.350000        2\n",
       "17       Sci-Fi   5.460000       15\n",
       "12       Horror   5.668571      455\n",
       "9       Fantasy   6.049091       55\n",
       "19     Thriller   6.213793       29\n",
       "0        Action   6.237286     2049\n",
       "4        Comedy   6.275727     2406\n",
       "8        Family   6.311765       17\n",
       "11      History   6.400000        2\n",
       "16      Romance   6.460000       15\n",
       "1     Adventure   6.510256      468\n",
       "15      Mystery   6.538710       31\n",
       "2     Animation   6.595571      429\n",
       "5         Crime   6.670724      649\n",
       "7         Drama   6.711680     1815\n",
       "3     Biography   7.091285      459\n",
       "14      Musical   7.300000        8\n",
       "21      Western   7.344444        9\n",
       "20          War   7.400000        3\n",
       "13        Music   7.550000        2\n",
       "6   Documentary   7.700000        1\n",
       "10    Film-Noir   7.733333        3"
      ]
     },
     "execution_count": 11,
     "metadata": {},
     "output_type": "execute_result"
    }
   ],
   "source": [
    "cata = pd.DataFrame(movie.groupby('genre',as_index=False)['mean_vote'].mean())\n",
    "cata = pd.merge(left=cata, right=df_genre, left_on='genre', right_on=df_genre.index)\n",
    "cata = cata.drop(columns=['genre_x'])\n",
    "cata.sort_values(by='mean_vote')"
   ]
  },
  {
   "cell_type": "markdown",
   "metadata": {},
   "source": [
    "From the result, we can see that the top3 catagories: Comedy, Action and Drama on average are rated 6.28, 6.24 and 6.71 respectively. Considering this, choosing to produce/watch a drama movie could be a safer bet. With such a large volume, a score of 6.71 is pretty remarkable.\n",
    "\n",
    "On the other hand, all the highly scored genres have small volumes. It could indicate that when a producer decides to produce a movie that belongs to a not-so-popular genre, he might have a pretty good script. Looking for good movies from these minor catagories could also be a good choice."
   ]
  },
  {
   "cell_type": "markdown",
   "metadata": {},
   "source": [
    "### 2.4 Production Company"
   ]
  },
  {
   "cell_type": "markdown",
   "metadata": {},
   "source": [
    "Now let's look at the production company.<br>\n",
    "We are mainly interested in the relationship between the size of the company and the quality of the company. We all know some major production companies, such as 21Century Fox, Walter Disney and Warner Bros. To some extent, their title seems to be the guarantee of their lowest quality. But are they really trustworthy? "
   ]
  },
  {
   "cell_type": "code",
   "execution_count": 12,
   "metadata": {
    "scrolled": false
   },
   "outputs": [],
   "source": [
    "company = pd.DataFrame(movie.groupby('production_company',as_index=False)['mean_vote'].mean())\n",
    "df_company = pd.DataFrame(movie['production_company'].value_counts())\n",
    "company = pd.merge(left=company, right=df_company, left_on='production_company', right_on=df_company.index)\n",
    "company = company.drop(columns=['production_company_x'])\n",
    "company = company.rename(columns={'production_company_y':'count'})"
   ]
  },
  {
   "cell_type": "code",
   "execution_count": 13,
   "metadata": {},
   "outputs": [
    {
     "name": "stderr",
     "output_type": "stream",
     "text": [
      "/Users/yvonne/opt/anaconda3/lib/python3.8/site-packages/pandas/core/indexing.py:671: SettingWithCopyWarning: \n",
      "A value is trying to be set on a copy of a slice from a DataFrame\n",
      "\n",
      "See the caveats in the documentation: https://pandas.pydata.org/pandas-docs/stable/user_guide/indexing.html#returning-a-view-versus-a-copy\n",
      "  self._setitem_with_indexer(indexer, value)\n"
     ]
    }
   ],
   "source": [
    "for i in range(0,3686):\n",
    "    if company['count'].iloc[i] <= 15:\n",
    "        company['count'].iloc[i] = 'small'\n",
    "    elif company['count'].iloc[i] <= 70:\n",
    "        company['count'].iloc[i] = 'median small'\n",
    "    elif company['count'].iloc[i] <= 130:\n",
    "        company['count'].iloc[i] = 'median large'\n",
    "    else:\n",
    "        company['count'].iloc[i] = 'large'"
   ]
  },
  {
   "cell_type": "code",
   "execution_count": 14,
   "metadata": {
    "scrolled": true
   },
   "outputs": [
    {
     "data": {
      "text/html": [
       "<div>\n",
       "<style scoped>\n",
       "    .dataframe tbody tr th:only-of-type {\n",
       "        vertical-align: middle;\n",
       "    }\n",
       "\n",
       "    .dataframe tbody tr th {\n",
       "        vertical-align: top;\n",
       "    }\n",
       "\n",
       "    .dataframe thead th {\n",
       "        text-align: right;\n",
       "    }\n",
       "</style>\n",
       "<table border=\"1\" class=\"dataframe\">\n",
       "  <thead>\n",
       "    <tr style=\"text-align: right;\">\n",
       "      <th></th>\n",
       "      <th>count</th>\n",
       "      <th>mean_vote</th>\n",
       "    </tr>\n",
       "  </thead>\n",
       "  <tbody>\n",
       "    <tr>\n",
       "      <th>3</th>\n",
       "      <td>small</td>\n",
       "      <td>6.330143</td>\n",
       "    </tr>\n",
       "    <tr>\n",
       "      <th>2</th>\n",
       "      <td>median small</td>\n",
       "      <td>6.472568</td>\n",
       "    </tr>\n",
       "    <tr>\n",
       "      <th>0</th>\n",
       "      <td>large</td>\n",
       "      <td>6.509316</td>\n",
       "    </tr>\n",
       "    <tr>\n",
       "      <th>1</th>\n",
       "      <td>median large</td>\n",
       "      <td>6.648778</td>\n",
       "    </tr>\n",
       "  </tbody>\n",
       "</table>\n",
       "</div>"
      ],
      "text/plain": [
       "          count  mean_vote\n",
       "3         small   6.330143\n",
       "2  median small   6.472568\n",
       "0         large   6.509316\n",
       "1  median large   6.648778"
      ]
     },
     "execution_count": 14,
     "metadata": {},
     "output_type": "execute_result"
    }
   ],
   "source": [
    "company2 = pd.DataFrame(company.groupby('count',as_index=False)['mean_vote'].mean())\n",
    "company2.sort_values(by='mean_vote')"
   ]
  },
  {
   "cell_type": "markdown",
   "metadata": {},
   "source": [
    "We can see that the average score and the size of the company are indeed positively correlated. This could suggest larger companies are indicator of higher quality. But there could also be another possibility: some fans of these companies are going to give high score to the films no matter what the movie is actually like. To some extent, having a large audience base could push the company to a benign circle."
   ]
  },
  {
   "cell_type": "markdown",
   "metadata": {},
   "source": [
    "### 2.5 Country"
   ]
  },
  {
   "cell_type": "markdown",
   "metadata": {},
   "source": [
    "Similar to production companies, some countries are in a more dominated position in the film industry, while others are not. We can do a simple analysis to see the relationship between the country's market size in the movie industry and movie quality."
   ]
  },
  {
   "cell_type": "code",
   "execution_count": 15,
   "metadata": {
    "scrolled": false
   },
   "outputs": [],
   "source": [
    "country = pd.DataFrame(movie.groupby('country',as_index=False)['mean_vote'].mean())\n",
    "df_country = pd.DataFrame(movie['country'].value_counts())\n",
    "country = pd.merge(left=country, right=df_country, left_on='country', right_on=df_country.index)\n",
    "country = country.drop(columns=['country_x'])\n",
    "country = country.rename(columns={'country_y':'count'})"
   ]
  },
  {
   "cell_type": "code",
   "execution_count": 16,
   "metadata": {},
   "outputs": [
    {
     "name": "stderr",
     "output_type": "stream",
     "text": [
      "/Users/yvonne/opt/anaconda3/lib/python3.8/site-packages/pandas/core/indexing.py:671: SettingWithCopyWarning: \n",
      "A value is trying to be set on a copy of a slice from a DataFrame\n",
      "\n",
      "See the caveats in the documentation: https://pandas.pydata.org/pandas-docs/stable/user_guide/indexing.html#returning-a-view-versus-a-copy\n",
      "  self._setitem_with_indexer(indexer, value)\n"
     ]
    }
   ],
   "source": [
    "for i in range(0,87):\n",
    "    if country['count'].iloc[i] <= 15:\n",
    "        country['count'].iloc[i] = 'small'\n",
    "    elif country['count'].iloc[i] <= 70:\n",
    "        country['count'].iloc[i] = 'median small'\n",
    "    elif country['count'].iloc[i] <= 150:\n",
    "        country['count'].iloc[i] = 'median large'\n",
    "    else:\n",
    "        country['count'].iloc[i] = 'large'"
   ]
  },
  {
   "cell_type": "code",
   "execution_count": 17,
   "metadata": {
    "scrolled": true
   },
   "outputs": [
    {
     "data": {
      "text/html": [
       "<div>\n",
       "<style scoped>\n",
       "    .dataframe tbody tr th:only-of-type {\n",
       "        vertical-align: middle;\n",
       "    }\n",
       "\n",
       "    .dataframe tbody tr th {\n",
       "        vertical-align: top;\n",
       "    }\n",
       "\n",
       "    .dataframe thead th {\n",
       "        text-align: right;\n",
       "    }\n",
       "</style>\n",
       "<table border=\"1\" class=\"dataframe\">\n",
       "  <thead>\n",
       "    <tr style=\"text-align: right;\">\n",
       "      <th></th>\n",
       "      <th>count</th>\n",
       "      <th>mean_vote</th>\n",
       "    </tr>\n",
       "  </thead>\n",
       "  <tbody>\n",
       "    <tr>\n",
       "      <th>0</th>\n",
       "      <td>large</td>\n",
       "      <td>6.311157</td>\n",
       "    </tr>\n",
       "    <tr>\n",
       "      <th>1</th>\n",
       "      <td>median large</td>\n",
       "      <td>6.435019</td>\n",
       "    </tr>\n",
       "    <tr>\n",
       "      <th>2</th>\n",
       "      <td>median small</td>\n",
       "      <td>6.436369</td>\n",
       "    </tr>\n",
       "    <tr>\n",
       "      <th>3</th>\n",
       "      <td>small</td>\n",
       "      <td>6.713281</td>\n",
       "    </tr>\n",
       "  </tbody>\n",
       "</table>\n",
       "</div>"
      ],
      "text/plain": [
       "          count  mean_vote\n",
       "0         large   6.311157\n",
       "1  median large   6.435019\n",
       "2  median small   6.436369\n",
       "3         small   6.713281"
      ]
     },
     "execution_count": 17,
     "metadata": {},
     "output_type": "execute_result"
    }
   ],
   "source": [
    "country2 = pd.DataFrame(country.groupby('count',as_index=False)['mean_vote'].mean())\n",
    "country2.sort_values(by='mean_vote')"
   ]
  },
  {
   "cell_type": "markdown",
   "metadata": {},
   "source": [
    "The result is quite suprising. Larger countries tends to produce movie of lower quality, while smaller countries' average movie quality is higher. A country's position in the movie industry cannot be a guarantee of the quality."
   ]
  },
  {
   "cell_type": "markdown",
   "metadata": {},
   "source": [
    "### 2.6 Visualize the Relationship between mean_vote and Others"
   ]
  },
  {
   "cell_type": "code",
   "execution_count": 18,
   "metadata": {},
   "outputs": [
    {
     "data": {
      "image/png": "[encoded data removed]",
      "text/plain": [
       "<Figure size 1152x720 with 5 Axes>"
      ]
     },
     "metadata": {
      "needs_background": "light"
     },
     "output_type": "display_data"
    }
   ],
   "source": [
    "fig, ax = plt.subplots(2,3, figsize=(16,10))\n",
    "\n",
    "sns.scatterplot(x='total_votes', y='mean_vote', data=movie, ax=ax[0,0])\n",
    "\n",
    "sns.scatterplot(x='year', y='mean_vote', data=movie, ax=ax[0,1])\n",
    "\n",
    "sns.scatterplot(x='duration', y='mean_vote', data=movie, ax=ax[0,2])\n",
    "\n",
    "sns.scatterplot(x='gross', y='mean_vote', data=movie, ax=ax[1,0])\n",
    "\n",
    "sns.scatterplot(x='budget', y='mean_vote', data=movie, ax=ax[1,1])\n",
    "\n",
    "fig.delaxes(ax[1,2])"
   ]
  },
  {
   "cell_type": "markdown",
   "metadata": {},
   "source": [
    "From the above scatter plots, we can draw the following conclusions:\n",
    "1. The number of votes is positively correlated with the quality of the film.\n",
    "2. Older films often have higher scores. This could be due to the general nostalgia of modern people.\n",
    "3. Longer movie tends to have higher score.\n",
    "4. Movie with a low gross doesn't necessarily have a low score, but movie with a higher gross tends to have a higher score.\n",
    "5. Similar to gross, there are certain highly scored movies made with low budgets. But generally, a higher budget indicates a higher score."
   ]
  },
  {
   "cell_type": "markdown",
   "metadata": {},
   "source": [
    "## 3. Classification Algorithm Building"
   ]
  },
  {
   "cell_type": "markdown",
   "metadata": {},
   "source": [
    "Now we have a basic understanding of the dataset we have. But we still don't know how to choose safely among all the movies. To make it easier, we can build an algorithm to distinguish between the good ones and the poor ones. Once we have such an algorithm, we could input some attibutes of the film and it's going to tell us whether it's worth a try or not."
   ]
  },
  {
   "cell_type": "code",
   "execution_count": 19,
   "metadata": {},
   "outputs": [],
   "source": [
    "#create a new dataset and make some modifications\n",
    "trees = movie[['total_votes','year','duration','budget','gross','mean_vote','country_y','production_company_y']].copy()\n",
    "trees['year'] = trees['year'].astype(int)"
   ]
  },
  {
   "cell_type": "code",
   "execution_count": 20,
   "metadata": {},
   "outputs": [
    {
     "name": "stderr",
     "output_type": "stream",
     "text": [
      "/Users/yvonne/opt/anaconda3/lib/python3.8/site-packages/pandas/core/indexing.py:671: SettingWithCopyWarning: \n",
      "A value is trying to be set on a copy of a slice from a DataFrame\n",
      "\n",
      "See the caveats in the documentation: https://pandas.pydata.org/pandas-docs/stable/user_guide/indexing.html#returning-a-view-versus-a-copy\n",
      "  self._setitem_with_indexer(indexer, value)\n"
     ]
    }
   ],
   "source": [
    "#seperate the good ones and poor ones based on their overall score\n",
    "for i in range(0,8922):\n",
    "    if trees['mean_vote'].iloc[i] >= 6.5:\n",
    "        trees['mean_vote'].iloc[i] = 'good'\n",
    "    else:\n",
    "        trees['mean_vote'].iloc[i] = 'poor'"
   ]
  },
  {
   "cell_type": "code",
   "execution_count": 21,
   "metadata": {},
   "outputs": [],
   "source": [
    "#select the attributes and the target\n",
    "X = trees[['total_votes','year','duration','budget','gross','country_y','production_company_y']] \n",
    "y = trees['mean_vote']"
   ]
  },
  {
   "cell_type": "code",
   "execution_count": 22,
   "metadata": {},
   "outputs": [],
   "source": [
    "#split the dataset\n",
    "from sklearn.model_selection import train_test_split\n",
    "X_train, X_test, y_train, y_test = train_test_split(X, y, test_size=0.2, random_state=0)"
   ]
  },
  {
   "cell_type": "markdown",
   "metadata": {},
   "source": [
    "After cleaning the dataset and splitting the data, we can now try all the possible classification algorithms. To make better selection between them, in this step, we will start to tune them."
   ]
  },
  {
   "cell_type": "markdown",
   "metadata": {},
   "source": [
    "### 3.1 Logistic Regression"
   ]
  },
  {
   "cell_type": "code",
   "execution_count": 23,
   "metadata": {},
   "outputs": [
    {
     "data": {
      "text/plain": [
       "LogisticRegression()"
      ]
     },
     "execution_count": 23,
     "metadata": {},
     "output_type": "execute_result"
    }
   ],
   "source": [
    "from sklearn.linear_model import LogisticRegression\n",
    "log_clf = LogisticRegression()\n",
    "log_clf.fit(X_train, y_train)"
   ]
  },
  {
   "cell_type": "code",
   "execution_count": 24,
   "metadata": {
    "scrolled": true
   },
   "outputs": [
    {
     "name": "stdout",
     "output_type": "stream",
     "text": [
      "Accuracy :  66.4985994397759\n",
      "Report :                precision    recall  f1-score   support\n",
      "\n",
      "        good       0.69      0.66      0.67       934\n",
      "        poor       0.64      0.67      0.66       851\n",
      "\n",
      "    accuracy                           0.66      1785\n",
      "   macro avg       0.67      0.67      0.66      1785\n",
      "weighted avg       0.67      0.66      0.67      1785\n",
      "\n"
     ]
    }
   ],
   "source": [
    "y_pred_log = log_clf.predict(X_test)\n",
    "print (\"Accuracy : \", accuracy_score(y_test,y_pred_log)*100)\n",
    "print (\"Report : \",  classification_report(y_test, y_pred_log))"
   ]
  },
  {
   "cell_type": "markdown",
   "metadata": {},
   "source": [
    "### 3.2 Ridge Regression"
   ]
  },
  {
   "cell_type": "code",
   "execution_count": 25,
   "metadata": {},
   "outputs": [
    {
     "name": "stdout",
     "output_type": "stream",
     "text": [
      "Accuracy :  68.68347338935574\n",
      "Report :                precision    recall  f1-score   support\n",
      "\n",
      "        good       0.74      0.63      0.68       934\n",
      "        poor       0.65      0.75      0.70       851\n",
      "\n",
      "    accuracy                           0.69      1785\n",
      "   macro avg       0.69      0.69      0.69      1785\n",
      "weighted avg       0.69      0.69      0.69      1785\n",
      "\n"
     ]
    }
   ],
   "source": [
    "from sklearn.linear_model import RidgeClassifier\n",
    "rid_clf = RidgeClassifier()\n",
    "rid_clf.fit(X_train,y_train)\n",
    "y_pred_rid = rid_clf.predict(X_test)\n",
    "print (\"Accuracy : \", accuracy_score(y_test,y_pred_rid)*100)\n",
    "print (\"Report : \",  classification_report(y_test, y_pred_rid))"
   ]
  },
  {
   "cell_type": "markdown",
   "metadata": {},
   "source": [
    "### 3.3 SVC Classifier"
   ]
  },
  {
   "cell_type": "code",
   "execution_count": 138,
   "metadata": {},
   "outputs": [
    {
     "name": "stdout",
     "output_type": "stream",
     "text": [
      "Best: 0.585119 using {'C': 50, 'gamma': 'scale', 'kernel': 'rbf'}\n",
      "0.527298 (0.002667) with: {'C': 50, 'gamma': 'scale', 'kernel': 'poly'}\n",
      "0.585119 (0.016148) with: {'C': 50, 'gamma': 'scale', 'kernel': 'rbf'}\n",
      "0.505912 (0.017624) with: {'C': 50, 'gamma': 'scale', 'kernel': 'sigmoid'}\n",
      "0.527252 (0.002606) with: {'C': 10, 'gamma': 'scale', 'kernel': 'poly'}\n",
      "0.584511 (0.015631) with: {'C': 10, 'gamma': 'scale', 'kernel': 'rbf'}\n",
      "0.506099 (0.017820) with: {'C': 10, 'gamma': 'scale', 'kernel': 'sigmoid'}\n",
      "0.526645 (0.001864) with: {'C': 1.0, 'gamma': 'scale', 'kernel': 'poly'}\n",
      "0.579937 (0.015567) with: {'C': 1.0, 'gamma': 'scale', 'kernel': 'rbf'}\n",
      "0.505678 (0.017651) with: {'C': 1.0, 'gamma': 'scale', 'kernel': 'sigmoid'}\n",
      "0.527112 (0.000552) with: {'C': 0.1, 'gamma': 'scale', 'kernel': 'poly'}\n",
      "0.568636 (0.017041) with: {'C': 0.1, 'gamma': 'scale', 'kernel': 'rbf'}\n",
      "0.506890 (0.020131) with: {'C': 0.1, 'gamma': 'scale', 'kernel': 'sigmoid'}\n",
      "0.527112 (0.000552) with: {'C': 0.01, 'gamma': 'scale', 'kernel': 'poly'}\n",
      "0.527112 (0.000552) with: {'C': 0.01, 'gamma': 'scale', 'kernel': 'rbf'}\n",
      "0.545886 (0.015223) with: {'C': 0.01, 'gamma': 'scale', 'kernel': 'sigmoid'}\n"
     ]
    }
   ],
   "source": [
    "from sklearn.svm import SVC\n",
    "model = SVC()\n",
    "kernel = ['poly', 'rbf', 'sigmoid']\n",
    "C = [50, 10, 1.0, 0.1, 0.01]\n",
    "gamma = ['scale']\n",
    "# define grid search\n",
    "grid = dict(kernel=kernel,C=C,gamma=gamma)\n",
    "cv = RepeatedStratifiedKFold(n_splits=10, n_repeats=3, random_state=1)\n",
    "grid_search = GridSearchCV(estimator=model, param_grid=grid, n_jobs=-1, cv=cv, scoring='accuracy',error_score=0)\n",
    "grid_result = grid_search.fit(X_train, y_train)\n",
    "# summarize results\n",
    "print(\"Best: %f using %s\" % (grid_result.best_score_, grid_result.best_params_))\n",
    "means = grid_result.cv_results_['mean_test_score']\n",
    "stds = grid_result.cv_results_['std_test_score']\n",
    "params = grid_result.cv_results_['params']\n",
    "for mean, stdev, param in zip(means, stds, params):\n",
    "    print(\"%f (%f) with: %r\" % (mean, stdev, param))"
   ]
  },
  {
   "cell_type": "code",
   "execution_count": 214,
   "metadata": {},
   "outputs": [
    {
     "data": {
      "text/plain": [
       "SVC(C=50)"
      ]
     },
     "execution_count": 214,
     "metadata": {},
     "output_type": "execute_result"
    }
   ],
   "source": [
    "svc_clf = SVC(C=50, kernel = 'rbf', gamma='scale')\n",
    "svc_clf.fit(X_train, y_train)"
   ]
  },
  {
   "cell_type": "code",
   "execution_count": 215,
   "metadata": {},
   "outputs": [
    {
     "name": "stdout",
     "output_type": "stream",
     "text": [
      "Accuracy :  56.80672268907563\n",
      "Report :                precision    recall  f1-score   support\n",
      "\n",
      "        good       0.61      0.48      0.54       934\n",
      "        poor       0.54      0.66      0.59       851\n",
      "\n",
      "    accuracy                           0.57      1785\n",
      "   macro avg       0.57      0.57      0.57      1785\n",
      "weighted avg       0.58      0.57      0.57      1785\n",
      "\n"
     ]
    }
   ],
   "source": [
    "y_pred_svc = svc_clf.predict(X_test)\n",
    "print (\"Accuracy : \", accuracy_score(y_test,y_pred_svc)*100)\n",
    "print (\"Report : \",  classification_report(y_test, y_pred_svc))"
   ]
  },
  {
   "cell_type": "markdown",
   "metadata": {},
   "source": [
    "### 3.4 Binary Classifier/SGD classification"
   ]
  },
  {
   "cell_type": "code",
   "execution_count": 216,
   "metadata": {},
   "outputs": [
    {
     "data": {
      "text/plain": [
       "SGDClassifier(random_state=42)"
      ]
     },
     "execution_count": 216,
     "metadata": {},
     "output_type": "execute_result"
    }
   ],
   "source": [
    "from sklearn.linear_model import SGDClassifier\n",
    "sgd_clf = SGDClassifier(random_state=42)\n",
    "sgd_clf.fit(X_train,y_train)"
   ]
  },
  {
   "cell_type": "code",
   "execution_count": 217,
   "metadata": {},
   "outputs": [
    {
     "name": "stdout",
     "output_type": "stream",
     "text": [
      "Accuracy :  57.25490196078431\n",
      "Report :                precision    recall  f1-score   support\n",
      "\n",
      "        good       0.63      0.45      0.53       934\n",
      "        poor       0.54      0.70      0.61       851\n",
      "\n",
      "    accuracy                           0.57      1785\n",
      "   macro avg       0.58      0.58      0.57      1785\n",
      "weighted avg       0.59      0.57      0.57      1785\n",
      "\n"
     ]
    }
   ],
   "source": [
    "y_pred_sgd = sgd_clf.predict(X_test)\n",
    "print (\"Accuracy : \", accuracy_score(y_test,y_pred_sgd)*100)\n",
    "print (\"Report : \",  classification_report(y_test, y_pred_sgd))"
   ]
  },
  {
   "cell_type": "markdown",
   "metadata": {},
   "source": [
    "### 3.5 KNN Classifier"
   ]
  },
  {
   "cell_type": "code",
   "execution_count": 70,
   "metadata": {
    "collapsed": true
   },
   "outputs": [
    {
     "name": "stdout",
     "output_type": "stream",
     "text": [
      "Best: 0.585352 using {'metric': 'manhattan', 'n_neighbors': 17, 'weights': 'uniform'}\n",
      "0.554524 (0.019288) with: {'metric': 'euclidean', 'n_neighbors': 1, 'weights': 'uniform'}\n",
      "0.554524 (0.019288) with: {'metric': 'euclidean', 'n_neighbors': 1, 'weights': 'distance'}\n",
      "0.553497 (0.019267) with: {'metric': 'euclidean', 'n_neighbors': 3, 'weights': 'uniform'}\n",
      "0.554899 (0.021306) with: {'metric': 'euclidean', 'n_neighbors': 3, 'weights': 'distance'}\n",
      "0.561626 (0.019118) with: {'metric': 'euclidean', 'n_neighbors': 5, 'weights': 'uniform'}\n",
      "0.562466 (0.017704) with: {'metric': 'euclidean', 'n_neighbors': 5, 'weights': 'distance'}\n",
      "0.565969 (0.017148) with: {'metric': 'euclidean', 'n_neighbors': 7, 'weights': 'uniform'}\n",
      "0.565128 (0.017922) with: {'metric': 'euclidean', 'n_neighbors': 7, 'weights': 'distance'}\n",
      "0.570405 (0.015030) with: {'metric': 'euclidean', 'n_neighbors': 9, 'weights': 'uniform'}\n",
      "0.564708 (0.018191) with: {'metric': 'euclidean', 'n_neighbors': 9, 'weights': 'distance'}\n",
      "0.575309 (0.015057) with: {'metric': 'euclidean', 'n_neighbors': 11, 'weights': 'uniform'}\n",
      "0.566437 (0.016623) with: {'metric': 'euclidean', 'n_neighbors': 11, 'weights': 'distance'}\n",
      "0.576943 (0.015842) with: {'metric': 'euclidean', 'n_neighbors': 13, 'weights': 'uniform'}\n",
      "0.569284 (0.017157) with: {'metric': 'euclidean', 'n_neighbors': 13, 'weights': 'distance'}\n",
      "0.578579 (0.016226) with: {'metric': 'euclidean', 'n_neighbors': 15, 'weights': 'uniform'}\n",
      "0.573068 (0.018037) with: {'metric': 'euclidean', 'n_neighbors': 15, 'weights': 'distance'}\n",
      "0.578858 (0.017548) with: {'metric': 'euclidean', 'n_neighbors': 17, 'weights': 'uniform'}\n",
      "0.576104 (0.016121) with: {'metric': 'euclidean', 'n_neighbors': 17, 'weights': 'distance'}\n",
      "0.583996 (0.018922) with: {'metric': 'euclidean', 'n_neighbors': 19, 'weights': 'uniform'}\n",
      "0.578766 (0.017553) with: {'metric': 'euclidean', 'n_neighbors': 19, 'weights': 'distance'}\n",
      "0.556206 (0.020653) with: {'metric': 'manhattan', 'n_neighbors': 1, 'weights': 'uniform'}\n",
      "0.556206 (0.020653) with: {'metric': 'manhattan', 'n_neighbors': 1, 'weights': 'distance'}\n",
      "0.556115 (0.018694) with: {'metric': 'manhattan', 'n_neighbors': 3, 'weights': 'uniform'}\n",
      "0.557235 (0.019384) with: {'metric': 'manhattan', 'n_neighbors': 3, 'weights': 'distance'}\n",
      "0.565034 (0.018680) with: {'metric': 'manhattan', 'n_neighbors': 5, 'weights': 'uniform'}\n",
      "0.564100 (0.019095) with: {'metric': 'manhattan', 'n_neighbors': 5, 'weights': 'distance'}\n",
      "0.570170 (0.021512) with: {'metric': 'manhattan', 'n_neighbors': 7, 'weights': 'uniform'}\n",
      "0.566855 (0.019043) with: {'metric': 'manhattan', 'n_neighbors': 7, 'weights': 'distance'}\n",
      "0.573861 (0.016474) with: {'metric': 'manhattan', 'n_neighbors': 9, 'weights': 'uniform'}\n",
      "0.568351 (0.017824) with: {'metric': 'manhattan', 'n_neighbors': 9, 'weights': 'distance'}\n",
      "0.576430 (0.015683) with: {'metric': 'manhattan', 'n_neighbors': 11, 'weights': 'uniform'}\n",
      "0.569659 (0.016679) with: {'metric': 'manhattan', 'n_neighbors': 11, 'weights': 'distance'}\n",
      "0.578627 (0.014239) with: {'metric': 'manhattan', 'n_neighbors': 13, 'weights': 'uniform'}\n",
      "0.572135 (0.018302) with: {'metric': 'manhattan', 'n_neighbors': 13, 'weights': 'distance'}\n",
      "0.580589 (0.013267) with: {'metric': 'manhattan', 'n_neighbors': 15, 'weights': 'uniform'}\n",
      "0.574796 (0.017934) with: {'metric': 'manhattan', 'n_neighbors': 15, 'weights': 'distance'}\n",
      "0.585352 (0.017220) with: {'metric': 'manhattan', 'n_neighbors': 17, 'weights': 'uniform'}\n",
      "0.576853 (0.018922) with: {'metric': 'manhattan', 'n_neighbors': 17, 'weights': 'distance'}\n",
      "0.584371 (0.017715) with: {'metric': 'manhattan', 'n_neighbors': 19, 'weights': 'uniform'}\n",
      "0.579515 (0.018449) with: {'metric': 'manhattan', 'n_neighbors': 19, 'weights': 'distance'}\n",
      "0.554524 (0.019288) with: {'metric': 'minkowski', 'n_neighbors': 1, 'weights': 'uniform'}\n",
      "0.554524 (0.019288) with: {'metric': 'minkowski', 'n_neighbors': 1, 'weights': 'distance'}\n",
      "0.553497 (0.019267) with: {'metric': 'minkowski', 'n_neighbors': 3, 'weights': 'uniform'}\n",
      "0.554899 (0.021306) with: {'metric': 'minkowski', 'n_neighbors': 3, 'weights': 'distance'}\n",
      "0.561626 (0.019118) with: {'metric': 'minkowski', 'n_neighbors': 5, 'weights': 'uniform'}\n",
      "0.562466 (0.017704) with: {'metric': 'minkowski', 'n_neighbors': 5, 'weights': 'distance'}\n",
      "0.565969 (0.017148) with: {'metric': 'minkowski', 'n_neighbors': 7, 'weights': 'uniform'}\n",
      "0.565128 (0.017922) with: {'metric': 'minkowski', 'n_neighbors': 7, 'weights': 'distance'}\n",
      "0.570405 (0.015030) with: {'metric': 'minkowski', 'n_neighbors': 9, 'weights': 'uniform'}\n",
      "0.564708 (0.018191) with: {'metric': 'minkowski', 'n_neighbors': 9, 'weights': 'distance'}\n",
      "0.575309 (0.015057) with: {'metric': 'minkowski', 'n_neighbors': 11, 'weights': 'uniform'}\n",
      "0.566437 (0.016623) with: {'metric': 'minkowski', 'n_neighbors': 11, 'weights': 'distance'}\n",
      "0.576943 (0.015842) with: {'metric': 'minkowski', 'n_neighbors': 13, 'weights': 'uniform'}\n",
      "0.569284 (0.017157) with: {'metric': 'minkowski', 'n_neighbors': 13, 'weights': 'distance'}\n",
      "0.578579 (0.016226) with: {'metric': 'minkowski', 'n_neighbors': 15, 'weights': 'uniform'}\n",
      "0.573068 (0.018037) with: {'metric': 'minkowski', 'n_neighbors': 15, 'weights': 'distance'}\n",
      "0.578858 (0.017548) with: {'metric': 'minkowski', 'n_neighbors': 17, 'weights': 'uniform'}\n",
      "0.576104 (0.016121) with: {'metric': 'minkowski', 'n_neighbors': 17, 'weights': 'distance'}\n",
      "0.583996 (0.018922) with: {'metric': 'minkowski', 'n_neighbors': 19, 'weights': 'uniform'}\n",
      "0.578766 (0.017553) with: {'metric': 'minkowski', 'n_neighbors': 19, 'weights': 'distance'}\n"
     ]
    }
   ],
   "source": [
    "model = KNeighborsClassifier()\n",
    "n_neighbors = range(1, 21, 2)\n",
    "weights = ['uniform', 'distance']\n",
    "metric = ['euclidean', 'manhattan', 'minkowski']\n",
    "# define grid search\n",
    "grid = dict(n_neighbors=n_neighbors,weights=weights,metric=metric)\n",
    "cv = RepeatedStratifiedKFold(n_splits=10, n_repeats=3, random_state=1)\n",
    "grid_search = GridSearchCV(estimator=model, param_grid=grid, n_jobs=-1, cv=cv, scoring='accuracy',error_score=0)\n",
    "grid_result = grid_search.fit(X_train, y_train)\n",
    "# summarize results\n",
    "print(\"Best: %f using %s\" % (grid_result.best_score_, grid_result.best_params_))\n",
    "means = grid_result.cv_results_['mean_test_score']\n",
    "stds = grid_result.cv_results_['std_test_score']\n",
    "params = grid_result.cv_results_['params']\n",
    "for mean, stdev, param in zip(means, stds, params):\n",
    "    print(\"%f (%f) with: %r\" % (mean, stdev, param))"
   ]
  },
  {
   "cell_type": "code",
   "execution_count": 218,
   "metadata": {},
   "outputs": [
    {
     "name": "stdout",
     "output_type": "stream",
     "text": [
      "Accuracy :  58.0952380952381\n",
      "Report :                precision    recall  f1-score   support\n",
      "\n",
      "        good       0.60      0.60      0.60       934\n",
      "        poor       0.56      0.56      0.56       851\n",
      "\n",
      "    accuracy                           0.58      1785\n",
      "   macro avg       0.58      0.58      0.58      1785\n",
      "weighted avg       0.58      0.58      0.58      1785\n",
      "\n"
     ]
    }
   ],
   "source": [
    "from sklearn.neighbors import KNeighborsClassifier\n",
    "knn_clf = KNeighborsClassifier(n_neighbors=17, metric='manhattan',  weights= 'uniform')\n",
    "knn_clf.fit(X_train, y_train)\n",
    "y_pred_knn = knn_clf.predict(X_test)\n",
    "print (\"Accuracy : \", accuracy_score(y_test,y_pred_knn)*100)\n",
    "print (\"Report : \",  classification_report(y_test, y_pred_knn))"
   ]
  },
  {
   "cell_type": "markdown",
   "metadata": {},
   "source": [
    "### 3.6 Decision Trees"
   ]
  },
  {
   "cell_type": "markdown",
   "metadata": {},
   "source": [
    "As the performance of a single decision tree will be poorer than random forest, we are not going to tune the decision trees now."
   ]
  },
  {
   "cell_type": "markdown",
   "metadata": {},
   "source": [
    "#### 3.6.1 Using Gini"
   ]
  },
  {
   "cell_type": "code",
   "execution_count": 225,
   "metadata": {},
   "outputs": [
    {
     "data": {
      "text/plain": [
       "DecisionTreeClassifier(max_depth=3, min_samples_leaf=100, random_state=42)"
      ]
     },
     "execution_count": 225,
     "metadata": {},
     "output_type": "execute_result"
    }
   ],
   "source": [
    "clf_gini = DecisionTreeClassifier(criterion = 'gini',\n",
    "                                 max_depth = 3,\n",
    "                                 min_samples_leaf=100,\n",
    "                                 random_state = 42)\n",
    "clf_gini.fit(X_train, y_train)"
   ]
  },
  {
   "cell_type": "code",
   "execution_count": 226,
   "metadata": {},
   "outputs": [],
   "source": [
    "y_pred_gini = clf_gini.predict(X_test)"
   ]
  },
  {
   "cell_type": "markdown",
   "metadata": {},
   "source": [
    "#### 3.6.2 Using Entropy"
   ]
  },
  {
   "cell_type": "code",
   "execution_count": 227,
   "metadata": {
    "scrolled": true
   },
   "outputs": [
    {
     "data": {
      "text/plain": [
       "DecisionTreeClassifier(criterion='entropy', max_depth=3, min_samples_leaf=50,\n",
       "                       random_state=42)"
      ]
     },
     "execution_count": 227,
     "metadata": {},
     "output_type": "execute_result"
    }
   ],
   "source": [
    "clf_entropy = DecisionTreeClassifier(criterion = 'entropy',\n",
    "                                 max_depth = 3,\n",
    "                                 min_samples_leaf=50,\n",
    "                                 random_state = 42)\n",
    "clf_entropy.fit(X_train, y_train)"
   ]
  },
  {
   "cell_type": "code",
   "execution_count": 228,
   "metadata": {},
   "outputs": [],
   "source": [
    "y_pred_entro = clf_entropy.predict(X_test)"
   ]
  },
  {
   "cell_type": "markdown",
   "metadata": {},
   "source": [
    "#### 3.6.3 Evaluating these models"
   ]
  },
  {
   "cell_type": "code",
   "execution_count": 229,
   "metadata": {},
   "outputs": [
    {
     "name": "stdout",
     "output_type": "stream",
     "text": [
      "Accuracy :  66.55462184873949\n",
      "Report :                precision    recall  f1-score   support\n",
      "\n",
      "        good       0.67      0.70      0.69       934\n",
      "        poor       0.65      0.63      0.64       851\n",
      "\n",
      "    accuracy                           0.67      1785\n",
      "   macro avg       0.66      0.66      0.66      1785\n",
      "weighted avg       0.67      0.67      0.67      1785\n",
      "\n"
     ]
    }
   ],
   "source": [
    "# Evaulating predictions with test labels\n",
    "                  # For evaluating the model\n",
    "gini_tree_score = accuracy_score(y_test,y_pred_gini)*100\n",
    "print (\"Accuracy : \", accuracy_score(y_test,y_pred_gini)*100)         # Evaulating predictions with test labels\n",
    "print (\"Report : \",  classification_report(y_test, y_pred_gini))"
   ]
  },
  {
   "cell_type": "code",
   "execution_count": 230,
   "metadata": {},
   "outputs": [
    {
     "name": "stdout",
     "output_type": "stream",
     "text": [
      "Accuracy :  68.4593837535014\n",
      "Report :                precision    recall  f1-score   support\n",
      "\n",
      "        good       0.69      0.72      0.70       934\n",
      "        poor       0.68      0.65      0.66       851\n",
      "\n",
      "    accuracy                           0.68      1785\n",
      "   macro avg       0.68      0.68      0.68      1785\n",
      "weighted avg       0.68      0.68      0.68      1785\n",
      "\n"
     ]
    }
   ],
   "source": [
    "y_pred_entropy = clf_entropy.predict(X_test)\n",
    "entro_tree_score = accuracy_score(y_test,y_pred_entropy)*100\n",
    "print (\"Accuracy : \", accuracy_score(y_test,y_pred_entropy)*100)\n",
    "print (\"Report : \",  classification_report(y_test, y_pred_entropy))"
   ]
  },
  {
   "cell_type": "markdown",
   "metadata": {},
   "source": [
    "### 3.7 bagging"
   ]
  },
  {
   "cell_type": "code",
   "execution_count": 100,
   "metadata": {},
   "outputs": [
    {
     "name": "stdout",
     "output_type": "stream",
     "text": [
      "Best: 0.742419 using {'n_estimators': 1000}\n",
      "0.719955 (0.018423) with: {'n_estimators': 10}\n",
      "0.738962 (0.016478) with: {'n_estimators': 100}\n",
      "0.742419 (0.015961) with: {'n_estimators': 1000}\n"
     ]
    }
   ],
   "source": [
    "from sklearn.model_selection import RepeatedStratifiedKFold\n",
    "from sklearn.model_selection import GridSearchCV\n",
    "from sklearn.ensemble import BaggingClassifier\n",
    "\n",
    "model = BaggingClassifier()\n",
    "grid = {\n",
    "        \"n_estimators\" :[10, 100, 500, 1000],\n",
    "        }\n",
    "# define grid search\n",
    "grid = dict(n_estimators=n_estimators)\n",
    "cv = RepeatedStratifiedKFold(n_splits=10, n_repeats=3, random_state=1)\n",
    "grid_search = GridSearchCV(estimator=model, param_grid= grid, n_jobs=-1, cv=cv)\n",
    "grid_result = grid_search.fit(X_train, y_train)\n",
    "# summarize results\n",
    "print(\"Best: %f using %s\" % (grid_result.best_score_, grid_result.best_params_))\n",
    "means = grid_result.cv_results_['mean_test_score']\n",
    "stds = grid_result.cv_results_['std_test_score']\n",
    "params = grid_result.cv_results_['params']\n",
    "for mean, stdev, param in zip(means, stds, params):\n",
    "    print(\"%f (%f) with: %r\" % (mean, stdev, param))"
   ]
  },
  {
   "cell_type": "code",
   "execution_count": 231,
   "metadata": {},
   "outputs": [
    {
     "data": {
      "text/plain": [
       "BaggingClassifier(base_estimator=DecisionTreeClassifier(), n_estimators=1000,\n",
       "                  n_jobs=-1)"
      ]
     },
     "execution_count": 231,
     "metadata": {},
     "output_type": "execute_result"
    }
   ],
   "source": [
    "from sklearn.ensemble import BaggingClassifier\n",
    "\n",
    "bag_clf = BaggingClassifier(\n",
    "        DecisionTreeClassifier(), n_estimators=1000,\n",
    "        bootstrap=True, n_jobs=-1)\n",
    "bag_clf.fit(X_train,y_train)"
   ]
  },
  {
   "cell_type": "code",
   "execution_count": 233,
   "metadata": {},
   "outputs": [],
   "source": [
    "y_pred_bag = bag_clf.predict(X_test)"
   ]
  },
  {
   "cell_type": "code",
   "execution_count": 234,
   "metadata": {
    "scrolled": true
   },
   "outputs": [
    {
     "name": "stdout",
     "output_type": "stream",
     "text": [
      "Accuracy :  74.6218487394958\n",
      "Report :                precision    recall  f1-score   support\n",
      "\n",
      "        good       0.78      0.72      0.75       934\n",
      "        poor       0.72      0.78      0.74       851\n",
      "\n",
      "    accuracy                           0.75      1785\n",
      "   macro avg       0.75      0.75      0.75      1785\n",
      "weighted avg       0.75      0.75      0.75      1785\n",
      "\n"
     ]
    }
   ],
   "source": [
    "bag_score = accuracy_score(y_test,y_pred_bag)*100\n",
    "print (\"Accuracy : \", accuracy_score(y_test,y_pred_bag)*100)\n",
    "print (\"Report : \",  classification_report(y_test, y_pred_bag))"
   ]
  },
  {
   "cell_type": "markdown",
   "metadata": {},
   "source": [
    "#### 3.7.1 Out-Of-Bag evaluation"
   ]
  },
  {
   "cell_type": "code",
   "execution_count": 239,
   "metadata": {
    "scrolled": true
   },
   "outputs": [
    {
     "data": {
      "text/plain": [
       "BaggingClassifier(base_estimator=DecisionTreeClassifier(), n_estimators=1000,\n",
       "                  n_jobs=-1, oob_score=True)"
      ]
     },
     "execution_count": 239,
     "metadata": {},
     "output_type": "execute_result"
    }
   ],
   "source": [
    "oobag_clf = BaggingClassifier(\n",
    "        DecisionTreeClassifier(), n_estimators=1000,\n",
    "        bootstrap=True, n_jobs=-1, oob_score=True)\n",
    "oobag_clf.fit(X_train,y_train)"
   ]
  },
  {
   "cell_type": "code",
   "execution_count": 240,
   "metadata": {},
   "outputs": [
    {
     "data": {
      "text/plain": [
       "0.7405072159170519"
      ]
     },
     "execution_count": 240,
     "metadata": {},
     "output_type": "execute_result"
    }
   ],
   "source": [
    "oobag_clf.oob_score_"
   ]
  },
  {
   "cell_type": "code",
   "execution_count": 241,
   "metadata": {},
   "outputs": [
    {
     "name": "stdout",
     "output_type": "stream",
     "text": [
      "Accuracy :  74.90196078431373\n",
      "Report :                precision    recall  f1-score   support\n",
      "\n",
      "        good       0.78      0.72      0.75       934\n",
      "        poor       0.72      0.78      0.75       851\n",
      "\n",
      "    accuracy                           0.75      1785\n",
      "   macro avg       0.75      0.75      0.75      1785\n",
      "weighted avg       0.75      0.75      0.75      1785\n",
      "\n"
     ]
    }
   ],
   "source": [
    "y_pred_oob = oobag_clf.predict(X_test)\n",
    "oob_score = accuracy_score(y_test,y_pred_oob)*100\n",
    "print (\"Accuracy : \", accuracy_score(y_test,y_pred_oob)*100)\n",
    "print (\"Report : \",  classification_report(y_test, y_pred_oob))"
   ]
  },
  {
   "cell_type": "markdown",
   "metadata": {},
   "source": [
    "### 3.8 Ada Boosting Classifier"
   ]
  },
  {
   "cell_type": "code",
   "execution_count": 40,
   "metadata": {},
   "outputs": [
    {
     "name": "stdout",
     "output_type": "stream",
     "text": [
      "Fitting 5 folds for each of 128 candidates, totalling 640 fits\n"
     ]
    },
    {
     "name": "stderr",
     "output_type": "stream",
     "text": [
      "[Parallel(n_jobs=-1)]: Using backend LokyBackend with 8 concurrent workers.\n",
      "[Parallel(n_jobs=-1)]: Done  49 tasks      | elapsed:   13.4s\n",
      "[Parallel(n_jobs=-1)]: Done 200 tasks      | elapsed:   39.3s\n",
      "[Parallel(n_jobs=-1)]: Done 450 tasks      | elapsed:  1.6min\n",
      "[Parallel(n_jobs=-1)]: Done 640 out of 640 | elapsed:  2.4min finished\n"
     ]
    }
   ],
   "source": [
    "ada_clf = AdaBoostClassifier(\n",
    "    DecisionTreeClassifier(random_state=42, max_depth=2),\n",
    "    random_state = 42)\n",
    "\n",
    "param_grid = {\"base_estimator__criterion\" : [\"gini\", \"entropy\"],\n",
    "              \"base_estimator__splitter\" :   [\"best\", \"random\"],\n",
    "              \"algorithm\" : [\"SAMME\",\"SAMME.R\"],\n",
    "              \"n_estimators\" :[10, 100, 200, 250],\n",
    "              \"learning_rate\":  [0.05, 0.5, 1.5, 2.5]}\n",
    "\n",
    "grid_ada_clf = GridSearchCV(ada_clf, param_grid, cv=StratifiedKFold(n_splits=5), scoring=\"accuracy\", n_jobs= -1, verbose = 1)\n",
    "grid_ada_clf.fit(X_train, y_train)\n",
    "grid_ada_clf.best_params_\n",
    "\n",
    "ada_pred = grid_ada_clf.predict(X_test)"
   ]
  },
  {
   "cell_type": "code",
   "execution_count": 41,
   "metadata": {},
   "outputs": [
    {
     "name": "stdout",
     "output_type": "stream",
     "text": [
      "Accuracy :  73.44537815126051\n",
      "Report :                precision    recall  f1-score   support\n",
      "\n",
      "        good       0.78      0.69      0.73       934\n",
      "        poor       0.70      0.78      0.74       851\n",
      "\n",
      "    accuracy                           0.73      1785\n",
      "   macro avg       0.74      0.74      0.73      1785\n",
      "weighted avg       0.74      0.73      0.73      1785\n",
      "\n"
     ]
    }
   ],
   "source": [
    "print (\"Accuracy : \", accuracy_score(y_test,ada_pred)*100)\n",
    "print (\"Report : \",  classification_report(y_test, ada_pred))"
   ]
  },
  {
   "cell_type": "markdown",
   "metadata": {},
   "source": [
    "### 3.9 Gradient Boosting Classifier"
   ]
  },
  {
   "cell_type": "code",
   "execution_count": 36,
   "metadata": {},
   "outputs": [
    {
     "name": "stdout",
     "output_type": "stream",
     "text": [
      "Fitting 5 folds for each of 400 candidates, totalling 2000 fits\n"
     ]
    },
    {
     "name": "stderr",
     "output_type": "stream",
     "text": [
      "[Parallel(n_jobs=-1)]: Using backend LokyBackend with 8 concurrent workers.\n",
      "[Parallel(n_jobs=-1)]: Done  34 tasks      | elapsed:    3.4s\n",
      "[Parallel(n_jobs=-1)]: Done 184 tasks      | elapsed:   12.8s\n",
      "[Parallel(n_jobs=-1)]: Done 434 tasks      | elapsed:   55.5s\n",
      "[Parallel(n_jobs=-1)]: Done 784 tasks      | elapsed:  1.8min\n",
      "[Parallel(n_jobs=-1)]: Done 1234 tasks      | elapsed:  3.0min\n",
      "[Parallel(n_jobs=-1)]: Done 1784 tasks      | elapsed:  4.3min\n",
      "[Parallel(n_jobs=-1)]: Done 2000 out of 2000 | elapsed:  5.1min finished\n"
     ]
    }
   ],
   "source": [
    "from sklearn.ensemble import GradientBoostingClassifier\n",
    "from sklearn.model_selection import StratifiedKFold\n",
    "gb_clf = GradientBoostingClassifier(random_state=42)\n",
    "\n",
    "param_grid = {\n",
    "              'n_estimators' : [25, 50 ,75, 100, 200],\n",
    "              'learning_rate': [0.005 ,0.05, 0.5, 1.5],\n",
    "              'max_depth': [2, 4, 6, 8],\n",
    "              'max_features': [2, 3, 4, 5, 6] \n",
    "              }\n",
    "grid_gb_clf = GridSearchCV(gb_clf, param_grid, cv=StratifiedKFold(n_splits=5), scoring=\"accuracy\", n_jobs= -1, verbose = 1)\n",
    "grid_gb_clf.fit(X_train, y_train)\n",
    "\n",
    "gb_pred = grid_gb_clf.predict(X_test)"
   ]
  },
  {
   "cell_type": "code",
   "execution_count": 37,
   "metadata": {},
   "outputs": [
    {
     "name": "stdout",
     "output_type": "stream",
     "text": [
      "Accuracy :  73.78151260504202\n",
      "Report :                precision    recall  f1-score   support\n",
      "\n",
      "        good       0.78      0.69      0.73       934\n",
      "        poor       0.70      0.78      0.74       851\n",
      "\n",
      "    accuracy                           0.74      1785\n",
      "   macro avg       0.74      0.74      0.74      1785\n",
      "weighted avg       0.74      0.74      0.74      1785\n",
      "\n"
     ]
    }
   ],
   "source": [
    "print (\"Accuracy : \", accuracy_score(y_test,gb_pred)*100)\n",
    "print (\"Report : \",  classification_report(y_test, gb_pred))"
   ]
  },
  {
   "cell_type": "markdown",
   "metadata": {},
   "source": [
    "### 3.10 Random Forest"
   ]
  },
  {
   "cell_type": "code",
   "execution_count": 27,
   "metadata": {},
   "outputs": [
    {
     "name": "stdout",
     "output_type": "stream",
     "text": [
      "{'bootstrap': [True, False],\n",
      " 'max_depth': [10, 20, 30, 40, 50, 60, 70, 80, 90, 100, 110, None],\n",
      " 'max_features': ['auto', 'sqrt'],\n",
      " 'min_samples_leaf': [1, 10, 20],\n",
      " 'min_samples_split': [2, 5, 10],\n",
      " 'n_estimators': [200, 400, 600, 800, 1000, 1200, 1400, 1600, 1800, 2000]}\n"
     ]
    }
   ],
   "source": [
    "from pprint import pprint\n",
    "from sklearn.model_selection import RandomizedSearchCV\n",
    "# Number of trees in random forest\n",
    "n_estimators = [int(x) for x in np.linspace(start = 200, stop = 2000, num = 10)]\n",
    "# Number of features to consider at every split\n",
    "max_features = ['auto', 'sqrt']\n",
    "# Maximum number of levels in tree\n",
    "max_depth = [int(x) for x in np.linspace(10, 110, num = 11)]\n",
    "max_depth.append(None)\n",
    "# Minimum number of samples required to split a node\n",
    "min_samples_split = [2, 5, 10]\n",
    "# Minimum number of samples required at each leaf node\n",
    "min_samples_leaf = [1, 10, 20]\n",
    "# Method of selecting samples for training each tree\n",
    "bootstrap = [True, False]\n",
    "# Create the random grid\n",
    "random_grid = {'n_estimators': n_estimators,\n",
    "               'max_features': max_features,\n",
    "               'max_depth': max_depth,\n",
    "               'min_samples_split': min_samples_split,\n",
    "               'min_samples_leaf': min_samples_leaf,\n",
    "               'bootstrap': bootstrap,\n",
    "               }\n",
    "pprint(random_grid)\n"
   ]
  },
  {
   "cell_type": "code",
   "execution_count": 30,
   "metadata": {},
   "outputs": [
    {
     "name": "stdout",
     "output_type": "stream",
     "text": [
      "Fitting 3 folds for each of 100 candidates, totalling 300 fits\n"
     ]
    },
    {
     "name": "stderr",
     "output_type": "stream",
     "text": [
      "[Parallel(n_jobs=-1)]: Using backend LokyBackend with 8 concurrent workers.\n",
      "[Parallel(n_jobs=-1)]: Done  25 tasks      | elapsed:   36.4s\n",
      "[Parallel(n_jobs=-1)]: Done 146 tasks      | elapsed:  3.3min\n",
      "[Parallel(n_jobs=-1)]: Done 300 out of 300 | elapsed:  6.6min finished\n"
     ]
    },
    {
     "data": {
      "text/plain": [
       "RandomizedSearchCV(cv=3, estimator=RandomForestClassifier(), n_iter=100,\n",
       "                   n_jobs=-1,\n",
       "                   param_distributions={'bootstrap': [True, False],\n",
       "                                        'max_depth': [10, 20, 30, 40, 50, 60,\n",
       "                                                      70, 80, 90, 100, 110,\n",
       "                                                      None],\n",
       "                                        'max_features': ['auto', 'sqrt'],\n",
       "                                        'min_samples_leaf': [1, 10, 20],\n",
       "                                        'min_samples_split': [2, 5, 10],\n",
       "                                        'n_estimators': [200, 400, 600, 800,\n",
       "                                                         1000, 1200, 1400, 1600,\n",
       "                                                         1800, 2000]},\n",
       "                   random_state=42, verbose=2)"
      ]
     },
     "execution_count": 30,
     "metadata": {},
     "output_type": "execute_result"
    }
   ],
   "source": [
    "# Use the random grid to search for best hyperparameters\n",
    "# First create the base model to tune\n",
    "rf = RandomForestClassifier()\n",
    "# Random search of parameters, using 3 fold cross validation, \n",
    "# search across 100 different combinations, and use all available cores\n",
    "rf_random = RandomizedSearchCV(estimator = rf, param_distributions = random_grid, n_iter = 100, cv = 3, verbose=2, random_state=42, n_jobs = -1)\n",
    "# Fit the random search model\n",
    "rf_random.fit(X_train, y_train)"
   ]
  },
  {
   "cell_type": "code",
   "execution_count": 32,
   "metadata": {},
   "outputs": [
    {
     "data": {
      "text/plain": [
       "{'n_estimators': 1600,\n",
       " 'min_samples_split': 10,\n",
       " 'min_samples_leaf': 1,\n",
       " 'max_features': 'sqrt',\n",
       " 'max_depth': None,\n",
       " 'bootstrap': True}"
      ]
     },
     "execution_count": 32,
     "metadata": {},
     "output_type": "execute_result"
    }
   ],
   "source": [
    "rf_random.best_params_"
   ]
  },
  {
   "cell_type": "code",
   "execution_count": 33,
   "metadata": {},
   "outputs": [],
   "source": [
    "rnd_clf = RandomForestClassifier(bootstrap = True,\n",
    "                                        max_depth= None,\n",
    "                                         max_features= 'sqrt',\n",
    "                                         min_samples_leaf= 1,\n",
    "                                         min_samples_split= 10,\n",
    "                                         n_estimators= 1600)\n"
   ]
  },
  {
   "cell_type": "code",
   "execution_count": 34,
   "metadata": {
    "scrolled": true
   },
   "outputs": [
    {
     "name": "stdout",
     "output_type": "stream",
     "text": [
      "Accuracy :  75.23809523809524\n",
      "Report :                precision    recall  f1-score   support\n",
      "\n",
      "        good       0.79      0.72      0.75       934\n",
      "        poor       0.72      0.79      0.75       851\n",
      "\n",
      "    accuracy                           0.75      1785\n",
      "   macro avg       0.75      0.75      0.75      1785\n",
      "weighted avg       0.76      0.75      0.75      1785\n",
      "\n"
     ]
    }
   ],
   "source": [
    "rnd_clf.fit(X_train, y_train)\n",
    "y_pred_rf_bt = rnd_clf.predict(X_test)\n",
    "better_rf_score = accuracy_score(y_test,y_pred_rf_bt)*100\n",
    "print (\"Accuracy : \", accuracy_score(y_test,y_pred_rf_bt)*100)\n",
    "\n",
    "print (\"Report : \",  classification_report(y_test, y_pred_rf_bt))"
   ]
  },
  {
   "cell_type": "markdown",
   "metadata": {},
   "source": [
    "From the above experiments, we can see that the best models are random forest(75.24), oob bagging(74.90), Gradient Boosting(73.78) and Ada boosting(73.45). We can ensemble them to reach a better solution."
   ]
  },
  {
   "cell_type": "markdown",
   "metadata": {},
   "source": [
    "## 4. Voting"
   ]
  },
  {
   "cell_type": "code",
   "execution_count": 42,
   "metadata": {},
   "outputs": [],
   "source": [
    "estimator = [] \n",
    "estimator.append(('RF',RandomForestClassifier(bootstrap = True,\n",
    "                                              max_depth= None,\n",
    "                                              max_features= 'sqrt',\n",
    "                                              min_samples_leaf= 1,\n",
    "                                              min_samples_split= 10,\n",
    "                                              n_estimators= 1600))) \n",
    "estimator.append(('OOB', BaggingClassifier(DecisionTreeClassifier(), n_estimators=1000,\n",
    "                                           bootstrap=True, n_jobs=-1, oob_score=True))) \n",
    "estimator.append(('GB', grid_gb_clf)) \n",
    "estimator.append(('ADAB', grid_ada_clf)) "
   ]
  },
  {
   "cell_type": "markdown",
   "metadata": {},
   "source": [
    "### 4.1 Hard Voting"
   ]
  },
  {
   "cell_type": "code",
   "execution_count": 46,
   "metadata": {},
   "outputs": [
    {
     "name": "stdout",
     "output_type": "stream",
     "text": [
      "Fitting 5 folds for each of 400 candidates, totalling 2000 fits\n"
     ]
    },
    {
     "name": "stderr",
     "output_type": "stream",
     "text": [
      "[Parallel(n_jobs=-1)]: Using backend LokyBackend with 8 concurrent workers.\n",
      "[Parallel(n_jobs=-1)]: Done  52 tasks      | elapsed:    2.1s\n",
      "[Parallel(n_jobs=-1)]: Done 248 tasks      | elapsed:   17.8s\n",
      "[Parallel(n_jobs=-1)]: Done 498 tasks      | elapsed:  1.2min\n",
      "[Parallel(n_jobs=-1)]: Done 848 tasks      | elapsed:  1.9min\n",
      "[Parallel(n_jobs=-1)]: Done 1298 tasks      | elapsed:  2.9min\n",
      "[Parallel(n_jobs=-1)]: Done 1848 tasks      | elapsed:  4.3min\n",
      "[Parallel(n_jobs=-1)]: Done 2000 out of 2000 | elapsed:  4.9min finished\n"
     ]
    },
    {
     "name": "stdout",
     "output_type": "stream",
     "text": [
      "Fitting 5 folds for each of 128 candidates, totalling 640 fits\n"
     ]
    },
    {
     "name": "stderr",
     "output_type": "stream",
     "text": [
      "[Parallel(n_jobs=-1)]: Using backend LokyBackend with 8 concurrent workers.\n",
      "[Parallel(n_jobs=-1)]: Done  52 tasks      | elapsed:    7.9s\n",
      "[Parallel(n_jobs=-1)]: Done 208 tasks      | elapsed:   24.5s\n",
      "[Parallel(n_jobs=-1)]: Done 458 tasks      | elapsed:   52.3s\n",
      "[Parallel(n_jobs=-1)]: Done 640 out of 640 | elapsed:  1.4min finished\n"
     ]
    }
   ],
   "source": [
    "hard_voting = VotingClassifier(estimators = estimator, voting ='hard') \n",
    "hard_voting.fit(X_train, y_train) \n",
    "y_pred_hv = hard_voting.predict(X_test) "
   ]
  },
  {
   "cell_type": "code",
   "execution_count": 47,
   "metadata": {
    "scrolled": true
   },
   "outputs": [
    {
     "name": "stdout",
     "output_type": "stream",
     "text": [
      "Accuracy :  74.34173669467788\n",
      "Report :                precision    recall  f1-score   support\n",
      "\n",
      "        good       0.77      0.73      0.75       934\n",
      "        poor       0.72      0.76      0.74       851\n",
      "\n",
      "    accuracy                           0.74      1785\n",
      "   macro avg       0.74      0.74      0.74      1785\n",
      "weighted avg       0.74      0.74      0.74      1785\n",
      "\n"
     ]
    }
   ],
   "source": [
    "hv_score = accuracy_score(y_test,y_pred_hv)*100\n",
    "print (\"Accuracy : \", accuracy_score(y_test,y_pred_hv)*100)\n",
    "print (\"Report : \",  classification_report(y_test, y_pred_hv))"
   ]
  },
  {
   "cell_type": "markdown",
   "metadata": {},
   "source": [
    "### 4.2 Soft Voting"
   ]
  },
  {
   "cell_type": "code",
   "execution_count": 48,
   "metadata": {
    "scrolled": true
   },
   "outputs": [
    {
     "name": "stdout",
     "output_type": "stream",
     "text": [
      "Fitting 5 folds for each of 400 candidates, totalling 2000 fits\n"
     ]
    },
    {
     "name": "stderr",
     "output_type": "stream",
     "text": [
      "[Parallel(n_jobs=-1)]: Using backend LokyBackend with 8 concurrent workers.\n",
      "[Parallel(n_jobs=-1)]: Done  52 tasks      | elapsed:    2.0s\n",
      "[Parallel(n_jobs=-1)]: Done 248 tasks      | elapsed:   17.8s\n",
      "[Parallel(n_jobs=-1)]: Done 498 tasks      | elapsed:  1.2min\n",
      "[Parallel(n_jobs=-1)]: Done 848 tasks      | elapsed:  1.8min\n",
      "[Parallel(n_jobs=-1)]: Done 1298 tasks      | elapsed:  2.9min\n",
      "[Parallel(n_jobs=-1)]: Done 1848 tasks      | elapsed:  4.3min\n",
      "[Parallel(n_jobs=-1)]: Done 2000 out of 2000 | elapsed:  4.9min finished\n"
     ]
    },
    {
     "name": "stdout",
     "output_type": "stream",
     "text": [
      "Fitting 5 folds for each of 128 candidates, totalling 640 fits\n"
     ]
    },
    {
     "name": "stderr",
     "output_type": "stream",
     "text": [
      "[Parallel(n_jobs=-1)]: Using backend LokyBackend with 8 concurrent workers.\n",
      "[Parallel(n_jobs=-1)]: Done  52 tasks      | elapsed:    7.9s\n",
      "[Parallel(n_jobs=-1)]: Done 208 tasks      | elapsed:   24.5s\n",
      "[Parallel(n_jobs=-1)]: Done 458 tasks      | elapsed:   52.1s\n",
      "[Parallel(n_jobs=-1)]: Done 640 out of 640 | elapsed:  1.3min finished\n"
     ]
    }
   ],
   "source": [
    "soft_voting = VotingClassifier(estimators = estimator, voting ='soft') \n",
    "soft_voting.fit(X_train, y_train) \n",
    "y_pred_sv = soft_voting.predict(X_test) "
   ]
  },
  {
   "cell_type": "code",
   "execution_count": 49,
   "metadata": {},
   "outputs": [
    {
     "name": "stdout",
     "output_type": "stream",
     "text": [
      "Accuracy :  75.12605042016807\n",
      "Report :                precision    recall  f1-score   support\n",
      "\n",
      "        good       0.79      0.71      0.75       934\n",
      "        poor       0.72      0.79      0.75       851\n",
      "\n",
      "    accuracy                           0.75      1785\n",
      "   macro avg       0.75      0.75      0.75      1785\n",
      "weighted avg       0.75      0.75      0.75      1785\n",
      "\n"
     ]
    }
   ],
   "source": [
    "sv_score = accuracy_score(y_test,y_pred_sv)*100\n",
    "print (\"Accuracy : \", accuracy_score(y_test,y_pred_sv)*100)\n",
    "print (\"Report : \",  classification_report(y_test, y_pred_sv))"
   ]
  },
  {
   "cell_type": "markdown",
   "metadata": {},
   "source": [
    "After ensembling the best few algorithms we choose, we can see soft voting performs slightly better than hard voting. It can correctly predict the class of the movie 75% percent of the time. With this soft voting algorithm, we can be more confident that the movie we choose would be more enjoyable. "
   ]
  },
  {
   "cell_type": "markdown",
   "metadata": {},
   "source": [
    "### 5. End Notes"
   ]
  },
  {
   "cell_type": "markdown",
   "metadata": {},
   "source": [
    "#### 5.1 Shortcomings"
   ]
  },
  {
   "cell_type": "markdown",
   "metadata": {},
   "source": [
    "1. Due to the limited time and effort, this study is only looking at the average score of the movie. In the original datasets, there are more details about the ratings. Including the rating by different demographic groups. Given more time, we could look at the rating from different demographic groups. Using these information, we could make this movie-selection system more personalized for different user groups. In the original datasets, the information of the crew is also provided, including these information could make our classification algorithm more accurate.\n",
    "2. For convenience, in this study, we manually divided the movies into only two catagories: Good and Poor. To provide better service, we could also divide them into more catagories. "
   ]
  },
  {
   "cell_type": "markdown",
   "metadata": {},
   "source": [
    "#### 5.2 Data Source"
   ]
  },
  {
   "cell_type": "markdown",
   "metadata": {},
   "source": [
    "The dataset is found through https://www.kaggle.com/stefanoleone992/imdb-extensive-dataset?select=IMDb+ratings.csv"
   ]
  },
  {
   "cell_type": "markdown",
   "metadata": {},
   "source": [
    "**Movie Dataset**:<br>\n",
    "total_votes: Total votes received by this film.<br>\n",
    "mean_vote: Total mean votes of the film.<br>\n",
    "year: The year the film was produced.<br>\n",
    "genre: The genre of the film.<br>\n",
    "duration: The duration of the film.<br>\n",
    "country: The country the film was produced in.<br>\n",
    "language: The main language spoken in this film.<br>\n",
    "production_company: The production company of the film.<br>\n",
    "budget: The budget of the film.<br>\n",
    "worlwide_gross_income: The worldwide gross of the film.<br>"
   ]
  },
  {
   "cell_type": "code",
   "execution_count": 53,
   "metadata": {},
   "outputs": [
    {
     "name": "stdout",
     "output_type": "stream",
     "text": [
      "1336\n"
     ]
    }
   ],
   "source": [
    "#Importing wordcount module\n",
    "import io\n",
    "from nbformat import current\n",
    "def nb_word_count(nb_path):\n",
    "    with io.open(nb_path, 'r', encoding='utf-8') as f:\n",
    "        nb = current.read(f, 'json')\n",
    "        word_count = 0\n",
    "        for cell in nb.worksheets[0].cells:\n",
    "            if cell.cell_type == \"markdown\":\n",
    "                word_count += len(cell['source'].replace('#', '').lstrip().split(' '))\n",
    "    return word_count\n",
    "#Run to get notebook wordcount (includes Appendix)\n",
    "nb_path = \"./Individual_Coursework_20102546.ipynb\"\n",
    "word_count = nb_word_count(nb_path)\n",
    "print(word_count)"
   ]
  },
  {
   "cell_type": "code",
   "execution_count": null,
   "metadata": {},
   "outputs": [],
   "source": []
  }
 ],
 "metadata": {
  "kernelspec": {
   "display_name": "Python 3",
   "language": "python",
   "name": "python3"
  },
  "language_info": {
   "codemirror_mode": {
    "name": "ipython",
    "version": 3
   },
   "file_extension": ".py",
   "mimetype": "text/x-python",
   "name": "python",
   "nbconvert_exporter": "python",
   "pygments_lexer": "ipython3",
   "version": "3.8.3"
  }
 },
 "nbformat": 4,
 "nbformat_minor": 4
}
